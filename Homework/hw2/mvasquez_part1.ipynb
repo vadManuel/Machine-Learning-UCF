{
  "nbformat": 4,
  "nbformat_minor": 0,
  "metadata": {
    "colab": {
      "name": "mvasquez_hw2_part1.ipynb",
      "provenance": [],
      "collapsed_sections": [],
      "include_colab_link": true
    },
    "kernelspec": {
      "name": "python3",
      "display_name": "Python 3"
    }
  },
  "cells": [
    {
      "cell_type": "markdown",
      "metadata": {
        "id": "view-in-github",
        "colab_type": "text"
      },
      "source": [
        "<a href=\"https://colab.research.google.com/github/vadManuel/Machine-Learning-UCF/blob/master/Homework/hw2/mvasquez_part1.ipynb\" target=\"_parent\"><img src=\"https://colab.research.google.com/assets/colab-badge.svg\" alt=\"Open In Colab\"/></a>"
      ]
    },
    {
      "cell_type": "code",
      "metadata": {
        "id": "wWH_rCQB-TyQ",
        "colab_type": "code",
        "outputId": "b9c6de69-ac04-4c55-98c4-6651fd93a192",
        "colab": {
          "base_uri": "https://localhost:8080/",
          "height": 34
        }
      },
      "source": [
        "%matplotlib inline\n",
        "%tensorflow_version 2.x\n",
        "\n",
        "import numpy as np\n",
        "import matplotlib.pyplot as plt\n",
        "from skimage.measure import label\n",
        "from tensorflow import keras\n",
        "\n",
        "(raw_train_images, train_labels), (raw_test_images, test_labels) = keras.datasets.mnist.load_data()"
      ],
      "execution_count": 1,
      "outputs": [
        {
          "output_type": "stream",
          "text": [
            "TensorFlow 2.x selected.\n"
          ],
          "name": "stdout"
        }
      ]
    },
    {
      "cell_type": "code",
      "metadata": {
        "id": "RzRSQcNf1M9f",
        "colab_type": "code",
        "colab": {}
      },
      "source": [
        "#@title Theme Function (double-click for code) { display-mode: \"form\" }\n",
        "def theme(color='light'):\n",
        "  rc_params = None\n",
        "  fontdict = None\n",
        "  if color is 'dark':\n",
        "    rc_params = {'ytick.color':'w',\n",
        "          'xtick.color':'w',\n",
        "          'axes.labelcolor':'w',\n",
        "          'axes.edgecolor':'w'}\n",
        "    fontdict = {'color':'w'}\n",
        "  else:\n",
        "    rc_params = {'ytick.color' : 'k',\n",
        "          'xtick.color' : 'k',\n",
        "          'axes.labelcolor' : 'k',\n",
        "          'axes.edgecolor' : 'k'}\n",
        "    fontdict = {'color':'k'}\n",
        "  return rc_params, fontdict\n"
      ],
      "execution_count": 0,
      "outputs": []
    },
    {
      "cell_type": "code",
      "metadata": {
        "id": "s7bAmY_PEQNk",
        "colab_type": "code",
        "colab": {}
      },
      "source": [
        "\"\"\"\n",
        "Uncomment if using dark theme in colab\n",
        "\"\"\"\n",
        "rc_params, fontdict = theme('light')\n",
        "# rc_params, fontdict = theme('dark')"
      ],
      "execution_count": 0,
      "outputs": []
    },
    {
      "cell_type": "markdown",
      "metadata": {
        "id": "5wwow5iaDjgO",
        "colab_type": "text"
      },
      "source": [
        "## Problem 1\n",
        "\n",
        "Come up with handcrafted features for the MNIST digit classificiation problem and use them in a linear model with softmax output. That is, instead of feeding in the pixel values into the neural network, you feed in your handcrafted features."
      ]
    },
    {
      "cell_type": "code",
      "metadata": {
        "id": "w6Y74P0HKydX",
        "colab_type": "code",
        "colab": {}
      },
      "source": [
        "#@title Implementation of Augmenting Functions (double-click for code) { display-mode: \"form\" }\n",
        "def get_height_width(img):\n",
        "  rows = np.any(img, axis=1)\n",
        "  cols = np.any(img, axis=0)\n",
        "  rmin, rmax = np.where(rows)[0][[0, -1]]\n",
        "  cmin, cmax = np.where(cols)[0][[0, -1]]\n",
        "  height = rmax-rmin+1\n",
        "  width = cmax-cmin+1\n",
        "  return height,width\n",
        "\n",
        "def get_avg_intensity(img):\n",
        "  ret = np.mean(img)\n",
        "  return ret\n",
        "\n",
        "def get_nonzero_count(img):\n",
        "  ret = np.count_nonzero(img)\n",
        "  return ret\n",
        "\n",
        "def get_num_zones(img):\n",
        "  ret = np.where(img > 80, 0, 1)  # high = 0, low = 1, just so I can use the label function\n",
        "  ret = label(ret, connectivity=2, return_num=True)\n",
        "  return ret[1]\n",
        "\n",
        "def get_util(func, imgs, shape):\n",
        "  ret = np.empty(shape)\n",
        "  for i,img in enumerate(imgs):\n",
        "    ret[i] = func(img)\n",
        "  # print(np.max(ret[60000+]))\n",
        "  return ret"
      ],
      "execution_count": 0,
      "outputs": []
    },
    {
      "cell_type": "code",
      "metadata": {
        "id": "A7I1zZF-NaHO",
        "colab_type": "code",
        "colab": {}
      },
      "source": [
        "all_images = np.concatenate((raw_train_images,raw_test_images))\n",
        "\n",
        "shape_1 = (len(all_images),1)\n",
        "shape_2 = (len(all_images),2)"
      ],
      "execution_count": 0,
      "outputs": []
    },
    {
      "cell_type": "markdown",
      "metadata": {
        "id": "-I7UaPSrrDoS",
        "colab_type": "text"
      },
      "source": [
        "## Augmenting Vector\n",
        "1. `get_height_width()`\n",
        "\n",
        "    Returns the height and width of the current digit.\n",
        "\n",
        "1. `get_avg_intensity()`\n",
        "\n",
        "    Returns the average intensty throughout the 28x28 image, including all zeros.\n",
        "\n",
        "1. `get_nonzero_count()`\n",
        "\n",
        "    Returns the number of nonzero pixels in the image.\n",
        "\n",
        "1. `get_num_zones()`\n",
        "\n",
        "    Returns the number of white zones in the images, e.g. an image of a \"0\" has has 2 white zones. \n",
        "\n"
      ]
    },
    {
      "cell_type": "code",
      "metadata": {
        "id": "Tg-z8tyv7u9c",
        "colab_type": "code",
        "colab": {}
      },
      "source": [
        "hw = get_util(get_height_width,   all_images, shape_2).astype('float32')\n",
        "ai = get_util(get_avg_intensity,  all_images, shape_1).astype('float32')\n",
        "nc = get_util(get_nonzero_count,  all_images, shape_1).astype('float32')\n",
        "nz = get_util(get_num_zones,      all_images, shape_1).astype('float32')\n",
        "\n",
        "fl = all_images.reshape(all_images.shape[0], -1).astype('float32')"
      ],
      "execution_count": 0,
      "outputs": []
    },
    {
      "cell_type": "code",
      "metadata": {
        "id": "ehNmo6SkyWrP",
        "colab_type": "code",
        "colab": {}
      },
      "source": [
        "# Normalizing all features\n",
        "\n",
        "hw /= np.max(hw)\n",
        "ai /= np.max(ai)\n",
        "nc /= np.max(nc)\n",
        "nz /= np.max(nz)\n",
        "\n",
        "fl /= np.max(fl)"
      ],
      "execution_count": 0,
      "outputs": []
    },
    {
      "cell_type": "code",
      "metadata": {
        "id": "XP__AQP6fOfb",
        "colab_type": "code",
        "colab": {}
      },
      "source": [
        "# Creating X_train and X_test\n",
        "\n",
        "a_fl = np.concatenate((fl,hw,ai,nz),axis=1)\n",
        "\n",
        "X_train = a_fl[:60000]\n",
        "X_test  = a_fl[60000:]\n",
        "\n",
        "input_shape = (a_fl.shape[1],)"
      ],
      "execution_count": 0,
      "outputs": []
    },
    {
      "cell_type": "code",
      "metadata": {
        "id": "wARRqDQuK4RF",
        "colab_type": "code",
        "colab": {}
      },
      "source": [
        "#@title EarlyStopping Class Implementation (double-click for code) { display-mode: \"form\" }\n",
        "# Source: https://www.tensorflow.org/guide/keras/custom_callback#early_stopping_at_minimum_loss\n",
        "\n",
        "class EarlyStopping(keras.callbacks.Callback):\n",
        "  \"\"\"\n",
        "  Stop training when the loss is at its min, i.e. the loss stops decreasing.\n",
        "\n",
        "  Arguments:\n",
        "    patience: Number of epochs to wait after min has been hit. After this\n",
        "    number of no improvement, training stops.\n",
        "  \"\"\"\n",
        "\n",
        "  def __init__(self, patience=0, metric='val_loss'):\n",
        "    super(EarlyStopping, self).__init__()\n",
        "\n",
        "    self.patience = patience\n",
        "    self.metric = metric\n",
        "\n",
        "    # best_weights to store the weights at which the minimum loss occurs.\n",
        "    self.best_weights = None\n",
        "\n",
        "  def on_train_begin(self, logs=None):\n",
        "    # The number of epoch it has waited when loss is no longer minimum.\n",
        "    self.wait = 0\n",
        "    # The epoch the training stops at.\n",
        "    self.stopped_epoch = 0\n",
        "    # Initialize the best as infinity.\n",
        "    self.best = np.Inf\n",
        "\n",
        "  def on_epoch_end(self, epoch, logs=None):\n",
        "    current = None\n",
        "    if self.metric == 'just right':\n",
        "      train_loss = logs.get('loss')\n",
        "      val_loss = logs.get('val_loss')\n",
        "      current = abs(train_loss-val_loss)\n",
        "    else:\n",
        "      current = logs.get(self.metric)\n",
        "\n",
        "    if np.less(current, self.best):\n",
        "      self.best = current\n",
        "      self.wait = 0\n",
        "      # Record the best weights if current results is better (less).\n",
        "      self.best_weights = self.model.get_weights()\n",
        "    else:\n",
        "      self.wait += 1\n",
        "    if self.wait >= self.patience:\n",
        "      self.stopped_epoch = epoch\n",
        "      self.model.stop_training = True\n",
        "      self.model.set_weights(self.best_weights)\n",
        "\n",
        "  def on_train_end(self, logs=None):\n",
        "    if self.stopped_epoch > 0:\n",
        "      print('Epoch %d: early stopping (best epoch %d)' % (self.stopped_epoch+1, self.stopped_epoch+1-self.patience))"
      ],
      "execution_count": 0,
      "outputs": []
    },
    {
      "cell_type": "markdown",
      "metadata": {
        "id": "S8BZmxIdHgDh",
        "colab_type": "text"
      },
      "source": [
        "## Parameters\n",
        "After some testing (plenty of graphing, looking at tables, and early stopping), I discovered that utilizing Adam instead of RMSprop resulted in better validation loss and accuracy. After further testing, I concluded that a learning rate of .00255 and batch size of 256 also gave better results. Via early stopping and a patience number of 10, I'm able to get the best result."
      ]
    },
    {
      "cell_type": "code",
      "metadata": {
        "id": "qFxh7bEUHxR4",
        "colab_type": "code",
        "colab": {}
      },
      "source": [
        "model_get_params = {'input_shape':input_shape, 'optimizer':keras.optimizers.Adam, 'lr':.00255}\n",
        "model_fit_params = {'x':X_train, 'y':train_labels, 'batch_size':256,\n",
        "                    'validation_data':(X_test,test_labels),\n",
        "                    'callbacks':[EarlyStopping(patience=10)]}\n",
        "model_eval_params = {'x':X_test, 'y':test_labels, 'verbose':0}"
      ],
      "execution_count": 0,
      "outputs": []
    },
    {
      "cell_type": "markdown",
      "metadata": {
        "id": "0iep24JgFpCY",
        "colab_type": "text"
      },
      "source": [
        "## Model\n",
        "The basic single layer model outlined in the homework requirements."
      ]
    },
    {
      "cell_type": "code",
      "metadata": {
        "id": "pUASZSFjXS7e",
        "colab_type": "code",
        "colab": {}
      },
      "source": [
        "def get_model(input_shape=None, optimizer=None, lr=None):\n",
        "  opt = optimizer(lr=lr)\n",
        "\n",
        "  model = keras.Sequential()\n",
        "  model.add(keras.layers.Dense(10, activation='softmax', input_shape=input_shape))\n",
        "  model.compile(optimizer=opt, loss='sparse_categorical_crossentropy', metrics=['accuracy'])\n",
        "\n",
        "  return model"
      ],
      "execution_count": 0,
      "outputs": []
    },
    {
      "cell_type": "markdown",
      "metadata": {
        "id": "IaSHV_BaFRuj",
        "colab_type": "text"
      },
      "source": [
        "## Better Model\n",
        "By adding an initial dense layer of output 512, a dropout layer of .2, and switching batch the learning rate to .001. I was able to achieve a validation loss of .0528 and a validation accuracy of 0.9815."
      ]
    },
    {
      "cell_type": "code",
      "metadata": {
        "id": "_L3faG64FjAP",
        "colab_type": "code",
        "colab": {}
      },
      "source": [
        "def get_better_model(input_shape=None, optimizer=None, lr=None):\n",
        "  opt = optimizer(lr=.001)\n",
        "\n",
        "  model = keras.Sequential([\n",
        "    keras.layers.Dense(512, activation='relu', input_shape=input_shape),\n",
        "    keras.layers.Dropout(.2),\n",
        "    keras.layers.Dense(10, activation='softmax')\n",
        "  ])\n",
        "  model.compile(optimizer=opt, loss='sparse_categorical_crossentropy', metrics=['accuracy'])\n",
        "\n",
        "  return model"
      ],
      "execution_count": 0,
      "outputs": []
    },
    {
      "cell_type": "markdown",
      "metadata": {
        "id": "uTU0VqVFubz2",
        "colab_type": "text"
      },
      "source": [
        "## Fitting Model\n",
        "If I let the model over-fit just a bit, then I get a validation loss of .2121 and an accuracy of .9450."
      ]
    },
    {
      "cell_type": "code",
      "metadata": {
        "id": "oV_YvMcSVaNO",
        "colab_type": "code",
        "outputId": "52833079-35bf-451e-da3f-eada52eadbd8",
        "colab": {
          "base_uri": "https://localhost:8080/",
          "height": 1000
        }
      },
      "source": [
        "epochs = 100\n",
        "\n",
        "model = get_model(**model_get_params)\n",
        "history = model.fit(**model_fit_params, epochs=epochs, verbose=1)\n",
        "evaluation = model.evaluate(**model_eval_params)\n",
        "print('%s\\nValidation - Loss:%.4f Accuracy:%.4f\\n%s' % ('*'*40,evaluation[0],evaluation[1],'*'*40))"
      ],
      "execution_count": 13,
      "outputs": [
        {
          "output_type": "stream",
          "text": [
            "Train on 60000 samples, validate on 10000 samples\n",
            "Epoch 1/100\n",
            "60000/60000 [==============================] - 2s 25us/sample - loss: 0.5778 - accuracy: 0.8516 - val_loss: 0.3318 - val_accuracy: 0.9114\n",
            "Epoch 2/100\n",
            "60000/60000 [==============================] - 1s 14us/sample - loss: 0.3203 - accuracy: 0.9132 - val_loss: 0.2856 - val_accuracy: 0.9214\n",
            "Epoch 3/100\n",
            "60000/60000 [==============================] - 1s 14us/sample - loss: 0.2866 - accuracy: 0.9211 - val_loss: 0.2718 - val_accuracy: 0.9257\n",
            "Epoch 4/100\n",
            "60000/60000 [==============================] - 1s 14us/sample - loss: 0.2689 - accuracy: 0.9255 - val_loss: 0.2614 - val_accuracy: 0.9289\n",
            "Epoch 5/100\n",
            "60000/60000 [==============================] - 1s 15us/sample - loss: 0.2567 - accuracy: 0.9291 - val_loss: 0.2538 - val_accuracy: 0.9284\n",
            "Epoch 6/100\n",
            "60000/60000 [==============================] - 1s 14us/sample - loss: 0.2488 - accuracy: 0.9310 - val_loss: 0.2487 - val_accuracy: 0.9303\n",
            "Epoch 7/100\n",
            "60000/60000 [==============================] - 1s 14us/sample - loss: 0.2418 - accuracy: 0.9332 - val_loss: 0.2440 - val_accuracy: 0.9311\n",
            "Epoch 8/100\n",
            "60000/60000 [==============================] - 1s 14us/sample - loss: 0.2355 - accuracy: 0.9345 - val_loss: 0.2399 - val_accuracy: 0.9326\n",
            "Epoch 9/100\n",
            "60000/60000 [==============================] - 1s 14us/sample - loss: 0.2305 - accuracy: 0.9362 - val_loss: 0.2413 - val_accuracy: 0.9338\n",
            "Epoch 10/100\n",
            "60000/60000 [==============================] - 1s 14us/sample - loss: 0.2267 - accuracy: 0.9376 - val_loss: 0.2375 - val_accuracy: 0.9344\n",
            "Epoch 11/100\n",
            "60000/60000 [==============================] - 1s 14us/sample - loss: 0.2224 - accuracy: 0.9388 - val_loss: 0.2353 - val_accuracy: 0.9347\n",
            "Epoch 12/100\n",
            "60000/60000 [==============================] - 1s 14us/sample - loss: 0.2185 - accuracy: 0.9405 - val_loss: 0.2315 - val_accuracy: 0.9359\n",
            "Epoch 13/100\n",
            "60000/60000 [==============================] - 1s 15us/sample - loss: 0.2152 - accuracy: 0.9407 - val_loss: 0.2301 - val_accuracy: 0.9360\n",
            "Epoch 14/100\n",
            "60000/60000 [==============================] - 1s 14us/sample - loss: 0.2124 - accuracy: 0.9410 - val_loss: 0.2273 - val_accuracy: 0.9374\n",
            "Epoch 15/100\n",
            "60000/60000 [==============================] - 1s 14us/sample - loss: 0.2097 - accuracy: 0.9423 - val_loss: 0.2262 - val_accuracy: 0.9380\n",
            "Epoch 16/100\n",
            "60000/60000 [==============================] - 1s 15us/sample - loss: 0.2075 - accuracy: 0.9429 - val_loss: 0.2252 - val_accuracy: 0.9386\n",
            "Epoch 17/100\n",
            "60000/60000 [==============================] - 1s 14us/sample - loss: 0.2049 - accuracy: 0.9434 - val_loss: 0.2237 - val_accuracy: 0.9390\n",
            "Epoch 18/100\n",
            "60000/60000 [==============================] - 1s 14us/sample - loss: 0.2027 - accuracy: 0.9443 - val_loss: 0.2254 - val_accuracy: 0.9382\n",
            "Epoch 19/100\n",
            "60000/60000 [==============================] - 1s 15us/sample - loss: 0.2009 - accuracy: 0.9442 - val_loss: 0.2227 - val_accuracy: 0.9380\n",
            "Epoch 20/100\n",
            "60000/60000 [==============================] - 1s 14us/sample - loss: 0.1987 - accuracy: 0.9450 - val_loss: 0.2222 - val_accuracy: 0.9384\n",
            "Epoch 21/100\n",
            "60000/60000 [==============================] - 1s 14us/sample - loss: 0.1971 - accuracy: 0.9457 - val_loss: 0.2208 - val_accuracy: 0.9396\n",
            "Epoch 22/100\n",
            "60000/60000 [==============================] - 1s 14us/sample - loss: 0.1950 - accuracy: 0.9463 - val_loss: 0.2198 - val_accuracy: 0.9408\n",
            "Epoch 23/100\n",
            "60000/60000 [==============================] - 1s 14us/sample - loss: 0.1936 - accuracy: 0.9464 - val_loss: 0.2191 - val_accuracy: 0.9414\n",
            "Epoch 24/100\n",
            "60000/60000 [==============================] - 1s 15us/sample - loss: 0.1917 - accuracy: 0.9471 - val_loss: 0.2180 - val_accuracy: 0.9404\n",
            "Epoch 25/100\n",
            "60000/60000 [==============================] - 1s 15us/sample - loss: 0.1905 - accuracy: 0.9471 - val_loss: 0.2206 - val_accuracy: 0.9399\n",
            "Epoch 26/100\n",
            "60000/60000 [==============================] - 1s 14us/sample - loss: 0.1895 - accuracy: 0.9473 - val_loss: 0.2184 - val_accuracy: 0.9418\n",
            "Epoch 27/100\n",
            "60000/60000 [==============================] - 1s 14us/sample - loss: 0.1878 - accuracy: 0.9483 - val_loss: 0.2181 - val_accuracy: 0.9416\n",
            "Epoch 28/100\n",
            "60000/60000 [==============================] - 1s 14us/sample - loss: 0.1868 - accuracy: 0.9480 - val_loss: 0.2170 - val_accuracy: 0.9417\n",
            "Epoch 29/100\n",
            "60000/60000 [==============================] - 1s 14us/sample - loss: 0.1857 - accuracy: 0.9481 - val_loss: 0.2165 - val_accuracy: 0.9426\n",
            "Epoch 30/100\n",
            "60000/60000 [==============================] - 1s 14us/sample - loss: 0.1844 - accuracy: 0.9484 - val_loss: 0.2155 - val_accuracy: 0.9433\n",
            "Epoch 31/100\n",
            "60000/60000 [==============================] - 1s 15us/sample - loss: 0.1833 - accuracy: 0.9490 - val_loss: 0.2192 - val_accuracy: 0.9411\n",
            "Epoch 32/100\n",
            "60000/60000 [==============================] - 1s 14us/sample - loss: 0.1822 - accuracy: 0.9487 - val_loss: 0.2182 - val_accuracy: 0.9415\n",
            "Epoch 33/100\n",
            "60000/60000 [==============================] - 1s 14us/sample - loss: 0.1813 - accuracy: 0.9495 - val_loss: 0.2169 - val_accuracy: 0.9422\n",
            "Epoch 34/100\n",
            "60000/60000 [==============================] - 1s 14us/sample - loss: 0.1806 - accuracy: 0.9493 - val_loss: 0.2166 - val_accuracy: 0.9407\n",
            "Epoch 35/100\n",
            "60000/60000 [==============================] - 1s 14us/sample - loss: 0.1799 - accuracy: 0.9501 - val_loss: 0.2142 - val_accuracy: 0.9434\n",
            "Epoch 36/100\n",
            "60000/60000 [==============================] - 1s 14us/sample - loss: 0.1783 - accuracy: 0.9496 - val_loss: 0.2167 - val_accuracy: 0.9433\n",
            "Epoch 37/100\n",
            "60000/60000 [==============================] - 1s 15us/sample - loss: 0.1780 - accuracy: 0.9501 - val_loss: 0.2155 - val_accuracy: 0.9419\n",
            "Epoch 38/100\n",
            "60000/60000 [==============================] - 1s 15us/sample - loss: 0.1773 - accuracy: 0.9504 - val_loss: 0.2152 - val_accuracy: 0.9408\n",
            "Epoch 39/100\n",
            "60000/60000 [==============================] - 1s 14us/sample - loss: 0.1763 - accuracy: 0.9503 - val_loss: 0.2149 - val_accuracy: 0.9425\n",
            "Epoch 40/100\n",
            "60000/60000 [==============================] - 1s 14us/sample - loss: 0.1760 - accuracy: 0.9500 - val_loss: 0.2169 - val_accuracy: 0.9425\n",
            "Epoch 41/100\n",
            "60000/60000 [==============================] - 1s 14us/sample - loss: 0.1746 - accuracy: 0.9505 - val_loss: 0.2133 - val_accuracy: 0.9438\n",
            "Epoch 42/100\n",
            "60000/60000 [==============================] - 1s 15us/sample - loss: 0.1746 - accuracy: 0.9508 - val_loss: 0.2155 - val_accuracy: 0.9417\n",
            "Epoch 43/100\n",
            "60000/60000 [==============================] - 1s 14us/sample - loss: 0.1736 - accuracy: 0.9512 - val_loss: 0.2123 - val_accuracy: 0.9429\n",
            "Epoch 44/100\n",
            "60000/60000 [==============================] - 1s 14us/sample - loss: 0.1733 - accuracy: 0.9509 - val_loss: 0.2172 - val_accuracy: 0.9430\n",
            "Epoch 45/100\n",
            "60000/60000 [==============================] - 1s 14us/sample - loss: 0.1726 - accuracy: 0.9513 - val_loss: 0.2147 - val_accuracy: 0.9434\n",
            "Epoch 46/100\n",
            "60000/60000 [==============================] - 1s 14us/sample - loss: 0.1716 - accuracy: 0.9513 - val_loss: 0.2142 - val_accuracy: 0.9436\n",
            "Epoch 47/100\n",
            "60000/60000 [==============================] - 1s 14us/sample - loss: 0.1712 - accuracy: 0.9517 - val_loss: 0.2136 - val_accuracy: 0.9435\n",
            "Epoch 48/100\n",
            "60000/60000 [==============================] - 1s 15us/sample - loss: 0.1707 - accuracy: 0.9519 - val_loss: 0.2205 - val_accuracy: 0.9420\n",
            "Epoch 49/100\n",
            "60000/60000 [==============================] - 1s 14us/sample - loss: 0.1702 - accuracy: 0.9517 - val_loss: 0.2150 - val_accuracy: 0.9425\n",
            "Epoch 50/100\n",
            "60000/60000 [==============================] - 1s 14us/sample - loss: 0.1694 - accuracy: 0.9514 - val_loss: 0.2153 - val_accuracy: 0.9439\n",
            "Epoch 51/100\n",
            "60000/60000 [==============================] - 1s 15us/sample - loss: 0.1689 - accuracy: 0.9520 - val_loss: 0.2156 - val_accuracy: 0.9432\n",
            "Epoch 52/100\n",
            "60000/60000 [==============================] - 1s 14us/sample - loss: 0.1689 - accuracy: 0.9518 - val_loss: 0.2158 - val_accuracy: 0.9451\n",
            "Epoch 53/100\n",
            "60000/60000 [==============================] - 1s 14us/sample - loss: 0.1680 - accuracy: 0.9519 - val_loss: 0.2161 - val_accuracy: 0.9433\n",
            "Epoch 53: early stopping (best epoch 43)\n",
            "****************************************\n",
            "Validation - Loss:0.2123 Accuracy:0.9429\n",
            "****************************************\n"
          ],
          "name": "stdout"
        }
      ]
    },
    {
      "cell_type": "code",
      "metadata": {
        "id": "Gx6u45Pu-0ud",
        "colab_type": "code",
        "outputId": "75b43f02-f43b-4d3b-a63f-4f882692175d",
        "colab": {
          "base_uri": "https://localhost:8080/",
          "height": 366
        }
      },
      "source": [
        "#@title Display Accuracy and Loss Graphs (double-click for code) { display-mode: \"form\" }\n",
        "history_dict = history.history\n",
        "\n",
        "train_loss = history_dict['loss']\n",
        "train_acc = history_dict['accuracy']\n",
        "val_loss = history_dict['val_loss']\n",
        "val_acc = history_dict['val_accuracy']\n",
        "\n",
        "\n",
        "epochs_range = range(1, len(train_loss)+1)\n",
        "\n",
        "plt.rcParams.update(**rc_params)\n",
        "\n",
        "plt.subplot(1,2,1)\n",
        "plt.plot(epochs_range, train_acc, 'r', label='Training Accuracy')\n",
        "plt.plot(epochs_range, val_acc, 'b', label='Validation Accuracy')\n",
        "plt.title('Accuracy', fontdict=fontdict)\n",
        "plt.xlabel('Epochs')\n",
        "plt.ylabel('Accuracy')\n",
        "plt.legend()\n",
        "\n",
        "plt.subplot(1,2,2)\n",
        "plt.plot(epochs_range, train_loss, 'r', label='Training Loss')\n",
        "plt.plot(epochs_range, val_loss, 'b', label='Validation Loss')\n",
        "plt.title('Loss', fontdict=fontdict)\n",
        "plt.xlabel('Epochs')\n",
        "plt.ylabel('Loss')\n",
        "plt.legend()\n",
        "\n",
        "plt.subplots_adjust(left=0,right=1.5,top=1,bottom=0,wspace=.25)\n",
        "\n",
        "plt.show()"
      ],
      "execution_count": 14,
      "outputs": [
        {
          "output_type": "display_data",
          "data": {
            "image/png": "[encoded data removed]",
            "text/plain": [
              "<Figure size 432x288 with 2 Axes>"
            ]
          },
          "metadata": {
            "tags": []
          }
        }
      ]
    },
    {
      "cell_type": "code",
      "metadata": {
        "id": "4z6jR538f1hp",
        "colab_type": "code",
        "outputId": "1a9cebc4-eadb-4c6c-e9d4-ebabd29ec3e6",
        "colab": {
          "base_uri": "https://localhost:8080/",
          "height": 479
        }
      },
      "source": [
        "#@title Displays Examples of Bad Predictions (double-click for code) { display-mode: \"form\" }\n",
        "bad_predictions = {}\n",
        "for i, (y_true,y_pred) in enumerate(zip(test_labels,model.predict(X_test))):\n",
        "  if y_true != y_pred.argmax():\n",
        "    bad_predictions[i] = y_pred\n",
        "\n",
        "print('Total bad predictions: %d/10000' % len(bad_predictions))\n",
        "\n",
        "show_count = 25\n",
        "cols = 5\n",
        "rows = show_count//cols+(1 if show_count%cols != 0 else 0)\n",
        "\n",
        "print('-'*56)\n",
        "print('Left   - the predicted digit')\n",
        "print('Right  - the probability of the prediction being correct')\n",
        "print('-'*56)\n",
        "\n",
        "for i,key in zip(range(show_count),bad_predictions.keys()):\n",
        "  plt.subplot(rows,cols,i+1)\n",
        "  plt.imshow(raw_test_images[key])\n",
        "  plt.title('(%d)(%.3f)' % (bad_predictions[key].argmax(), bad_predictions[key].max()), fontdict=fontdict)\n",
        "  plt.axis('off')\n",
        "\n",
        "plt.subplots_adjust(left=0,right=1,top=1.25,bottom=0,wspace=.75,hspace=.1)\n",
        "plt.show()"
      ],
      "execution_count": 15,
      "outputs": [
        {
          "output_type": "stream",
          "text": [
            "Total bad predictions: 571/10000\n",
            "--------------------------------------------------------\n",
            "Left   - the predicted digit\n",
            "Right  - the probability of the prediction being correct\n",
            "--------------------------------------------------------\n"
          ],
          "name": "stdout"
        },
        {
          "output_type": "display_data",
          "data": {
            "image/png": "[encoded data removed]",
            "text/plain": [
              "<Figure size 432x288 with 25 Axes>"
            ]
          },
          "metadata": {
            "tags": []
          }
        }
      ]
    },
    {
      "cell_type": "code",
      "metadata": {
        "id": "PlK81HDeSv4U",
        "colab_type": "code",
        "colab": {}
      },
      "source": [
        ""
      ],
      "execution_count": 0,
      "outputs": []
    }
  ]
}