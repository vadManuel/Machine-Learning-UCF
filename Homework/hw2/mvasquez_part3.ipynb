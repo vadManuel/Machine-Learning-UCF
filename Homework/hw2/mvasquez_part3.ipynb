{
  "nbformat": 4,
  "nbformat_minor": 0,
  "metadata": {
    "colab": {
      "name": "mvasquez_hw2_part3.ipynb",
      "provenance": [],
      "collapsed_sections": [],
      "include_colab_link": true
    },
    "kernelspec": {
      "name": "python3",
      "display_name": "Python 3"
    },
    "accelerator": "GPU"
  },
  "cells": [
    {
      "cell_type": "markdown",
      "metadata": {
        "id": "view-in-github",
        "colab_type": "text"
      },
      "source": [
        "<a href=\"https://colab.research.google.com/github/vadManuel/Machine-Learning-UCF/blob/master/Homework/hw2/mvasquez_part3.ipynb\" target=\"_parent\"><img src=\"https://colab.research.google.com/assets/colab-badge.svg\" alt=\"Open In Colab\"/></a>"
      ]
    },
    {
      "cell_type": "code",
      "metadata": {
        "id": "Rd2qGqrng4Gd",
        "colab_type": "code",
        "colab": {
          "base_uri": "https://localhost:8080/",
          "height": 34
        },
        "outputId": "ea2bc9ff-1663-4c57-b20e-afc8fe9c93c2"
      },
      "source": [
        "%matplotlib inline\n",
        "%tensorflow_version 2.x\n",
        "\n",
        "import numpy as np\n",
        "import matplotlib.pyplot as plt\n",
        "from tensorflow import keras\n",
        "\n",
        "(train_images, train_labels), (test_images, test_labels) = keras.datasets.cifar10.load_data()"
      ],
      "execution_count": 1,
      "outputs": [
        {
          "output_type": "stream",
          "text": [
            "TensorFlow 2.x selected.\n"
          ],
          "name": "stdout"
        }
      ]
    },
    {
      "cell_type": "code",
      "metadata": {
        "id": "87Vro9ye4y7G",
        "colab_type": "code",
        "colab": {}
      },
      "source": [
        "#@title Theme Function (double-click for code) { display-mode: \"form\" }\n",
        "def theme(color='light'):\n",
        "  rc_params = None\n",
        "  fontdict = None\n",
        "  if color is 'dark':\n",
        "    rc_params = {'ytick.color':'w',\n",
        "          'xtick.color':'w',\n",
        "          'axes.labelcolor':'w',\n",
        "          'axes.edgecolor':'w'}\n",
        "    fontdict = {'color':'w'}\n",
        "  else:\n",
        "    rc_params = {'ytick.color' : 'k',\n",
        "          'xtick.color' : 'k',\n",
        "          'axes.labelcolor' : 'k',\n",
        "          'axes.edgecolor' : 'k'}\n",
        "    fontdict = {'color':'k'}\n",
        "  return rc_params, fontdict\n"
      ],
      "execution_count": 0,
      "outputs": []
    },
    {
      "cell_type": "code",
      "metadata": {
        "id": "4nA_I7c-41gt",
        "colab_type": "code",
        "colab": {}
      },
      "source": [
        "\"\"\"\n",
        "Uncomment if using dark theme in colab\n",
        "\"\"\"\n",
        "rc_params, fontdict = theme('light')\n",
        "# rc_params, fontdict = theme('dark')"
      ],
      "execution_count": 0,
      "outputs": []
    },
    {
      "cell_type": "markdown",
      "metadata": {
        "id": "Eg9tYelTK1FF",
        "colab_type": "text"
      },
      "source": [
        "## Problem 3\n",
        "\n",
        "Work with the CIFAR10 dataset to find 3 different models, a model that: underfits, overfits, and works good."
      ]
    },
    {
      "cell_type": "code",
      "metadata": {
        "id": "kiMkRqJCg_bb",
        "colab_type": "code",
        "colab": {}
      },
      "source": [
        "class_names = ['airplan', 'automobile', 'bird', 'cat', 'deer', 'dog', 'frog', 'horse', 'ship', 'truck']"
      ],
      "execution_count": 0,
      "outputs": []
    },
    {
      "cell_type": "code",
      "metadata": {
        "id": "7MxFibnYiMNO",
        "colab_type": "code",
        "colab": {}
      },
      "source": [
        "n_train = len(train_images)\n",
        "all_images = np.concatenate((train_images,test_images)).astype('float32')\n",
        "all_images /= 255\n",
        "\n",
        "X_train = all_images[:n_train]\n",
        "X_test  = all_images[n_train:]\n",
        "\n",
        "input_shape=np.shape(X_train)[1:]"
      ],
      "execution_count": 0,
      "outputs": []
    },
    {
      "cell_type": "code",
      "metadata": {
        "id": "wGtUHtqOkSBR",
        "colab_type": "code",
        "colab": {}
      },
      "source": [
        "#@title EarlyStopping Class Implementation (double-click for code) { display-mode: \"form\" }\n",
        "# Source: https://www.tensorflow.org/guide/keras/custom_callback#early_stopping_at_minimum_loss\n",
        "\n",
        "class EarlyStopping(keras.callbacks.Callback):\n",
        "  \"\"\"\n",
        "  Stop training when the loss is at its min, i.e. the loss stops decreasing.\n",
        "\n",
        "  Arguments:\n",
        "    patience: Number of epochs to wait after min has been hit. After this\n",
        "    number of no improvement, training stops.\n",
        "  \"\"\"\n",
        "\n",
        "  def __init__(self, patience=0, metric='val_loss'):\n",
        "    super(EarlyStopping, self).__init__()\n",
        "\n",
        "    self.patience = patience\n",
        "    self.metric = metric\n",
        "\n",
        "    # best_weights to store the weights at which the minimum loss occurs.\n",
        "    self.best_weights = None\n",
        "\n",
        "  def on_train_begin(self, logs=None):\n",
        "    # The number of epoch it has waited when loss is no longer minimum.\n",
        "    self.wait = 0\n",
        "    # The epoch the training stops at.\n",
        "    self.stopped_epoch = 0\n",
        "    # Initialize the best as infinity.\n",
        "    self.best = np.Inf\n",
        "\n",
        "  def on_epoch_end(self, epoch, logs=None):\n",
        "    current = None\n",
        "    if self.metric == 'just right':\n",
        "      train_loss = logs.get('loss')\n",
        "      val_loss = logs.get('val_loss')\n",
        "      current = abs(train_loss-val_loss)\n",
        "    else:\n",
        "      current = logs.get(self.metric)\n",
        "\n",
        "    if np.less(current, self.best):\n",
        "      self.best = current\n",
        "      self.wait = 0\n",
        "      # Record the best weights if current results is better (less).\n",
        "      self.best_weights = self.model.get_weights()\n",
        "    else:\n",
        "      self.wait += 1\n",
        "    if self.wait >= self.patience:\n",
        "      self.stopped_epoch = epoch\n",
        "      self.model.stop_training = True\n",
        "      self.model.set_weights(self.best_weights)\n",
        "\n",
        "  def on_train_end(self, logs=None):\n",
        "    if self.stopped_epoch > 0:\n",
        "      print('Epoch %d: early stopping (best epoch %d)' % (self.stopped_epoch+1, self.stopped_epoch+1-self.patience))"
      ],
      "execution_count": 0,
      "outputs": []
    },
    {
      "cell_type": "markdown",
      "metadata": {
        "id": "bvAaf1PmI0qq",
        "colab_type": "text"
      },
      "source": [
        "## Model Parameters"
      ]
    },
    {
      "cell_type": "code",
      "metadata": {
        "id": "uSchho5jiS_F",
        "colab_type": "code",
        "colab": {}
      },
      "source": [
        "model_get_params = {'optimizer':keras.optimizers.Adam,\n",
        "                    'input_shape':input_shape}\n",
        "model_fit_params = {'x':X_train, 'y':train_labels,\n",
        "                    'validation_data':(X_test,test_labels),\n",
        "                    'callbacks':[EarlyStopping(patience=3)]}\n",
        "model_eval_params = {'x':X_test, 'y':test_labels, 'verbose':0}"
      ],
      "execution_count": 0,
      "outputs": []
    },
    {
      "cell_type": "markdown",
      "metadata": {
        "id": "k3s9HS_9GC-l",
        "colab_type": "text"
      },
      "source": [
        "## Just-Right Model Architecture Testing"
      ]
    },
    {
      "cell_type": "code",
      "metadata": {
        "id": "37uyV5aYF94L",
        "colab_type": "code",
        "colab": {
          "base_uri": "https://localhost:8080/",
          "height": 204
        },
        "outputId": "9f9f3bfd-2fff-46ff-e30a-1d9e26808d3a"
      },
      "source": [
        "conv = lambda w,k,p,s: (w-k+2*p)//s+1\n",
        "maxp = lambda w,f,s: (w-f)//s+1\n",
        "trans = lambda w,k,p,s: (w-1)*s+k-2*p\n",
        "\n",
        "a = 32\n",
        "print('input: (%d,%d,%d)' % (a,a,3))\n",
        "a = conv(a,3,0,1)\n",
        "print('conv: (%d,%d,%d)' % (a,a,32))\n",
        "a = conv(a,3,0,1)\n",
        "print('conv: (%d,%d,%d)' % (a,a,32))\n",
        "a = maxp(a,2,1)\n",
        "print('max: (%d,%d,%d)' % (a,a,32))\n",
        "a = trans(a,5,0,1)\n",
        "print('trans: (%d,%d,%d)' % (a,a,64))\n",
        "\n",
        "a = conv(a,3,0,2)\n",
        "print('conv: (%d,%d,%d)' % (a,a,64))\n",
        "a = conv(a,3,0,2)\n",
        "print('conv: (%d,%d,%d)' % (a,a,64))\n",
        "a = maxp(a,2,2)\n",
        "print('max: (%d,%d,%d)' % (a,a,64))\n",
        "a = trans(a,5,0,1)\n",
        "\n",
        "a = conv(a,3,0,1)\n",
        "print('conv: (%d,%d,%d)' % (a,a,128))\n",
        "a = conv(a,3,0,1)\n",
        "print('conv: (%d,%d,%d)' % (a,a,128))\n",
        "a = maxp(a,2,1)\n",
        "print('max: (%d,%d,%d)' % (a,a,128))"
      ],
      "execution_count": 8,
      "outputs": [
        {
          "output_type": "stream",
          "text": [
            "input: (32,32,3)\n",
            "conv: (30,30,32)\n",
            "conv: (28,28,32)\n",
            "max: (27,27,32)\n",
            "trans: (31,31,64)\n",
            "conv: (15,15,64)\n",
            "conv: (7,7,64)\n",
            "max: (3,3,64)\n",
            "conv: (5,5,128)\n",
            "conv: (3,3,128)\n",
            "max: (2,2,128)\n"
          ],
          "name": "stdout"
        }
      ]
    },
    {
      "cell_type": "markdown",
      "metadata": {
        "id": "XNoi9qexIrve",
        "colab_type": "text"
      },
      "source": [
        "## Models\n",
        "1. Under-fitting Model\n",
        "\n",
        "    I'm aware that I forced the model to overfit given the low learning rate and heavy dropout, but I believe it shows well the reason it fails so badly. The model is too simple and the later also plays a heavy role in under-fitting.\n",
        "\n",
        "1. Over-fitting Model\n",
        "\n",
        "    The only reason this model is over-fitting is due to the learning rate. The model is really not that complex.\n",
        "\n",
        "1. Just-Right Model\n",
        "\n",
        "    This model works well because of the upsampling layers and heavy dropouts on the layer group just before. The group of convolutional layers and work well alongside the upsampling layers due to the small size of the dataset. This model could very much learn how to draw out the images themselves."
      ]
    },
    {
      "cell_type": "code",
      "metadata": {
        "id": "eZ2qib78j3Dv",
        "colab_type": "code",
        "colab": {}
      },
      "source": [
        "def get_under_fitting_model(optimizer=None, lr=None, input_shape=None):\n",
        "  opt = optimizer(lr=lr)\n",
        "\n",
        "  model = keras.Sequential([\n",
        "    keras.layers.Conv2D(4, kernel_size=(3,3), activation='relu'),\n",
        "    keras.layers.MaxPooling2D(pool_size=(2,2), strides=1),\n",
        "    keras.layers.Flatten(),\n",
        "    keras.layers.Dense(10, activation='relu'),\n",
        "    keras.layers.Dropout(.4),\n",
        "    keras.layers.Dense(10, activation='softmax')\n",
        "  ])\n",
        "\n",
        "  model.compile(optimizer=opt, loss='sparse_categorical_crossentropy', metrics=['accuracy'])\n",
        "\n",
        "  return model\n",
        "\n",
        "def get_over_fitting_model(optimizer=None, lr=None, input_shape=None):\n",
        "  opt = optimizer(lr=lr)\n",
        "\n",
        "  model = keras.Sequential([\n",
        "    keras.layers.Conv2D(32, kernel_size=(3,3), activation='relu', input_shape=input_shape),\n",
        "    keras.layers.Conv2D(32, kernel_size=(3,3), activation='relu'),\n",
        "    keras.layers.MaxPooling2D(pool_size=(2,2), strides=1),\n",
        "    keras.layers.Dropout(.2),\n",
        "\n",
        "    keras.layers.Flatten(),\n",
        "    keras.layers.Dense(10, activation='softmax')\n",
        "  ])\n",
        "\n",
        "  model.compile(optimizer=opt, loss='sparse_categorical_crossentropy', metrics=['accuracy'])\n",
        "\n",
        "  return model\n",
        "\n",
        "def get_just_right_model(optimizer=None, lr=None, input_shape=None):\n",
        "  opt = optimizer(lr=lr)\n",
        "\n",
        "  model = keras.Sequential([\n",
        "    keras.layers.Conv2D(32, kernel_size=(3,3), activation='relu', input_shape=input_shape),\n",
        "    keras.layers.Conv2D(32, kernel_size=(3,3), activation='relu'),\n",
        "    keras.layers.MaxPooling2D(pool_size=(2,2), strides=1),\n",
        "    keras.layers.Dropout(.2),\n",
        "\n",
        "    keras.layers.Conv2DTranspose(64, kernel_size=(5,5), activation='relu'),\n",
        "    keras.layers.Conv2D(64, kernel_size=(3,3), strides=(2,2), activation='relu'),\n",
        "    keras.layers.Conv2D(64, kernel_size=(3,3), strides=(2,2), activation='relu'),\n",
        "    keras.layers.MaxPooling2D(pool_size=(2,2), strides=2),\n",
        "    keras.layers.Dropout(.3),\n",
        "\n",
        "    keras.layers.Conv2DTranspose(64, kernel_size=(5,5), activation='relu'),\n",
        "    keras.layers.Conv2D(128, kernel_size=(3,3), activation='relu'),\n",
        "    keras.layers.Conv2D(128, kernel_size=(3,3), activation='relu'),\n",
        "    keras.layers.MaxPooling2D(pool_size=(2,2), strides=1),\n",
        "    keras.layers.Dropout(.4),\n",
        "\n",
        "    keras.layers.Flatten(),\n",
        "    keras.layers.Dense(10, activation='softmax')\n",
        "  ])\n",
        "\n",
        "  model.compile(optimizer=opt, loss='sparse_categorical_crossentropy', metrics=['accuracy'])\n",
        "\n",
        "  return model"
      ],
      "execution_count": 0,
      "outputs": []
    },
    {
      "cell_type": "markdown",
      "metadata": {
        "id": "6dH-bziTIktH",
        "colab_type": "text"
      },
      "source": [
        "## Fitting Models\n",
        "\n",
        "The Just-Right model can sometimes plateau and I'm not entirely sure of the reason. If this does happen, then just restart training. The Just-Right model can get better with more training, but for this problem I don't think it's necessary.\n",
        "\n",
        "||Val Loss|Val Accuracy|\n",
        "|-|-|-|\n",
        "|Under-fitting Model|1.9755|0.3176|\n",
        "|Over-fitting Model|1.0091|0.6634|\n",
        "|Just-Right Model|0.7899|0.7330|"
      ]
    },
    {
      "cell_type": "code",
      "metadata": {
        "id": "kGoTWdlAj_uW",
        "colab_type": "code",
        "colab": {
          "base_uri": "https://localhost:8080/",
          "height": 1000
        },
        "outputId": "53c77dfd-3b6c-427b-8a62-028bf00bf05b"
      },
      "source": [
        "epochs = 20\n",
        "\n",
        "ts = ['Under-fitting Model', 'Over-fitting Model', 'Just Right Model']\n",
        "models = [\n",
        "  get_under_fitting_model(**model_get_params, lr=.00001),\n",
        "  get_over_fitting_model(**model_get_params, lr=.001),\n",
        "  get_just_right_model(**model_get_params, lr=.001)\n",
        "]\n",
        "histories = []\n",
        "\n",
        "for i in range(len(models)):\n",
        "  print('%s training' % ts[i])\n",
        "  histories.append(models[i].fit(**model_fit_params, epochs=epochs, verbose=1))\n",
        "  evaluation = models[i].evaluate(**model_eval_params)\n",
        "  print('%s\\nValidation - Loss:%.4f Accuracy:%.4f\\n%s' % ('*'*40,evaluation[0],evaluation[1],'*'*40))"
      ],
      "execution_count": 22,
      "outputs": [
        {
          "output_type": "stream",
          "text": [
            "Under-fitting Model training\n",
            "Train on 50000 samples, validate on 10000 samples\n",
            "Epoch 1/20\n",
            "50000/50000 [==============================] - 6s 120us/sample - loss: 2.3034 - accuracy: 0.1101 - val_loss: 2.2790 - val_accuracy: 0.1259\n",
            "Epoch 2/20\n",
            "50000/50000 [==============================] - 5s 107us/sample - loss: 2.2801 - accuracy: 0.1198 - val_loss: 2.2613 - val_accuracy: 0.1664\n",
            "Epoch 3/20\n",
            "50000/50000 [==============================] - 5s 108us/sample - loss: 2.2597 - accuracy: 0.1463 - val_loss: 2.2242 - val_accuracy: 0.2069\n",
            "Epoch 4/20\n",
            "50000/50000 [==============================] - 5s 107us/sample - loss: 2.2319 - accuracy: 0.1644 - val_loss: 2.1915 - val_accuracy: 0.2151\n",
            "Epoch 5/20\n",
            "50000/50000 [==============================] - 5s 106us/sample - loss: 2.2109 - accuracy: 0.1750 - val_loss: 2.1686 - val_accuracy: 0.2286\n",
            "Epoch 6/20\n",
            "50000/50000 [==============================] - 5s 107us/sample - loss: 2.1956 - accuracy: 0.1810 - val_loss: 2.1475 - val_accuracy: 0.2325\n",
            "Epoch 7/20\n",
            "50000/50000 [==============================] - 5s 106us/sample - loss: 2.1821 - accuracy: 0.1857 - val_loss: 2.1325 - val_accuracy: 0.2457\n",
            "Epoch 8/20\n",
            "50000/50000 [==============================] - 5s 107us/sample - loss: 2.1719 - accuracy: 0.1875 - val_loss: 2.1210 - val_accuracy: 0.2534\n",
            "Epoch 9/20\n",
            "50000/50000 [==============================] - 5s 107us/sample - loss: 2.1619 - accuracy: 0.1914 - val_loss: 2.1129 - val_accuracy: 0.2627\n",
            "Epoch 10/20\n",
            "50000/50000 [==============================] - 5s 107us/sample - loss: 2.1527 - accuracy: 0.1950 - val_loss: 2.0890 - val_accuracy: 0.2638\n",
            "Epoch 11/20\n",
            "50000/50000 [==============================] - 6s 111us/sample - loss: 2.1427 - accuracy: 0.1975 - val_loss: 2.0818 - val_accuracy: 0.2730\n",
            "Epoch 12/20\n",
            "50000/50000 [==============================] - 5s 108us/sample - loss: 2.1380 - accuracy: 0.2025 - val_loss: 2.0712 - val_accuracy: 0.2823\n",
            "Epoch 13/20\n",
            "50000/50000 [==============================] - 5s 108us/sample - loss: 2.1266 - accuracy: 0.2068 - val_loss: 2.0548 - val_accuracy: 0.2837\n",
            "Epoch 14/20\n",
            "50000/50000 [==============================] - 5s 106us/sample - loss: 2.1193 - accuracy: 0.2118 - val_loss: 2.0492 - val_accuracy: 0.2942\n",
            "Epoch 15/20\n",
            "50000/50000 [==============================] - 5s 107us/sample - loss: 2.1106 - accuracy: 0.2174 - val_loss: 2.0356 - val_accuracy: 0.2962\n",
            "Epoch 16/20\n",
            "50000/50000 [==============================] - 5s 107us/sample - loss: 2.1012 - accuracy: 0.2231 - val_loss: 2.0212 - val_accuracy: 0.3008\n",
            "Epoch 17/20\n",
            "50000/50000 [==============================] - 5s 107us/sample - loss: 2.0986 - accuracy: 0.2211 - val_loss: 2.0127 - val_accuracy: 0.3086\n",
            "Epoch 18/20\n",
            "50000/50000 [==============================] - 5s 106us/sample - loss: 2.0845 - accuracy: 0.2280 - val_loss: 2.0002 - val_accuracy: 0.3104\n",
            "Epoch 19/20\n",
            "50000/50000 [==============================] - 5s 107us/sample - loss: 2.0791 - accuracy: 0.2286 - val_loss: 1.9942 - val_accuracy: 0.3140\n",
            "Epoch 20/20\n",
            "50000/50000 [==============================] - 5s 107us/sample - loss: 2.0662 - accuracy: 0.2349 - val_loss: 1.9755 - val_accuracy: 0.3176\n",
            "****************************************\n",
            "Validation - Loss:1.9755 Accuracy:0.3176\n",
            "****************************************\n",
            "Over-fitting Model training\n",
            "Train on 50000 samples, validate on 10000 samples\n",
            "Epoch 1/20\n",
            "50000/50000 [==============================] - 7s 132us/sample - loss: 1.3846 - accuracy: 0.5105 - val_loss: 1.1085 - val_accuracy: 0.6173\n",
            "Epoch 2/20\n",
            "50000/50000 [==============================] - 6s 121us/sample - loss: 1.0422 - accuracy: 0.6393 - val_loss: 1.0361 - val_accuracy: 0.6425\n",
            "Epoch 3/20\n",
            "50000/50000 [==============================] - 6s 122us/sample - loss: 0.9334 - accuracy: 0.6771 - val_loss: 1.0257 - val_accuracy: 0.6496\n",
            "Epoch 4/20\n",
            "50000/50000 [==============================] - 6s 123us/sample - loss: 0.8576 - accuracy: 0.7065 - val_loss: 1.0141 - val_accuracy: 0.6568\n",
            "Epoch 5/20\n",
            "50000/50000 [==============================] - 6s 124us/sample - loss: 0.8032 - accuracy: 0.7225 - val_loss: 1.0091 - val_accuracy: 0.6634\n",
            "Epoch 6/20\n",
            "50000/50000 [==============================] - 6s 123us/sample - loss: 0.7528 - accuracy: 0.7388 - val_loss: 1.0661 - val_accuracy: 0.6472\n",
            "Epoch 7/20\n",
            "50000/50000 [==============================] - 6s 121us/sample - loss: 0.7078 - accuracy: 0.7545 - val_loss: 1.0813 - val_accuracy: 0.6400\n",
            "Epoch 8/20\n",
            "50000/50000 [==============================] - 6s 121us/sample - loss: 0.6718 - accuracy: 0.7654 - val_loss: 1.0768 - val_accuracy: 0.6499\n",
            "Epoch 8: early stopping (best epoch 5)\n",
            "****************************************\n",
            "Validation - Loss:1.0091 Accuracy:0.6634\n",
            "****************************************\n",
            "Just Right Model training\n",
            "Train on 50000 samples, validate on 10000 samples\n",
            "Epoch 1/20\n",
            "50000/50000 [==============================] - 13s 258us/sample - loss: 1.8280 - accuracy: 0.3098 - val_loss: 1.4362 - val_accuracy: 0.4679\n",
            "Epoch 2/20\n",
            "50000/50000 [==============================] - 12s 236us/sample - loss: 1.3557 - accuracy: 0.5091 - val_loss: 1.2388 - val_accuracy: 0.5574\n",
            "Epoch 3/20\n",
            "50000/50000 [==============================] - 12s 236us/sample - loss: 1.1947 - accuracy: 0.5732 - val_loss: 1.0792 - val_accuracy: 0.6117\n",
            "Epoch 4/20\n",
            "50000/50000 [==============================] - 12s 236us/sample - loss: 1.1034 - accuracy: 0.6089 - val_loss: 1.0411 - val_accuracy: 0.6290\n",
            "Epoch 5/20\n",
            "50000/50000 [==============================] - 12s 238us/sample - loss: 1.0318 - accuracy: 0.6371 - val_loss: 0.9584 - val_accuracy: 0.6554\n",
            "Epoch 6/20\n",
            "50000/50000 [==============================] - 12s 238us/sample - loss: 0.9803 - accuracy: 0.6527 - val_loss: 0.9680 - val_accuracy: 0.6601\n",
            "Epoch 7/20\n",
            "50000/50000 [==============================] - 12s 237us/sample - loss: 0.9450 - accuracy: 0.6674 - val_loss: 0.9167 - val_accuracy: 0.6805\n",
            "Epoch 8/20\n",
            "50000/50000 [==============================] - 12s 235us/sample - loss: 0.9077 - accuracy: 0.6802 - val_loss: 0.8828 - val_accuracy: 0.6880\n",
            "Epoch 9/20\n",
            "50000/50000 [==============================] - 12s 236us/sample - loss: 0.8811 - accuracy: 0.6905 - val_loss: 0.8518 - val_accuracy: 0.7010\n",
            "Epoch 10/20\n",
            "50000/50000 [==============================] - 12s 240us/sample - loss: 0.8609 - accuracy: 0.6965 - val_loss: 0.8620 - val_accuracy: 0.6982\n",
            "Epoch 11/20\n",
            "50000/50000 [==============================] - 12s 239us/sample - loss: 0.8390 - accuracy: 0.7064 - val_loss: 0.8376 - val_accuracy: 0.7067\n",
            "Epoch 12/20\n",
            "50000/50000 [==============================] - 12s 239us/sample - loss: 0.8257 - accuracy: 0.7132 - val_loss: 0.8125 - val_accuracy: 0.7186\n",
            "Epoch 13/20\n",
            "50000/50000 [==============================] - 12s 236us/sample - loss: 0.8154 - accuracy: 0.7143 - val_loss: 0.8317 - val_accuracy: 0.7122\n",
            "Epoch 14/20\n",
            "50000/50000 [==============================] - 12s 245us/sample - loss: 0.7974 - accuracy: 0.7212 - val_loss: 0.8048 - val_accuracy: 0.7235\n",
            "Epoch 15/20\n",
            "50000/50000 [==============================] - 12s 240us/sample - loss: 0.7955 - accuracy: 0.7226 - val_loss: 0.8343 - val_accuracy: 0.7126\n",
            "Epoch 16/20\n",
            "50000/50000 [==============================] - 12s 244us/sample - loss: 0.7871 - accuracy: 0.7265 - val_loss: 0.7899 - val_accuracy: 0.7330\n",
            "Epoch 17/20\n",
            "50000/50000 [==============================] - 12s 245us/sample - loss: 0.7688 - accuracy: 0.7304 - val_loss: 0.8108 - val_accuracy: 0.7236\n",
            "Epoch 18/20\n",
            "50000/50000 [==============================] - 12s 240us/sample - loss: 0.7631 - accuracy: 0.7343 - val_loss: 0.7941 - val_accuracy: 0.7279\n",
            "Epoch 19/20\n",
            "50000/50000 [==============================] - 12s 241us/sample - loss: 0.7567 - accuracy: 0.7364 - val_loss: 0.8023 - val_accuracy: 0.7258\n",
            "Epoch 19: early stopping (best epoch 16)\n",
            "****************************************\n",
            "Validation - Loss:0.7899 Accuracy:0.7330\n",
            "****************************************\n"
          ],
          "name": "stdout"
        }
      ]
    },
    {
      "cell_type": "code",
      "metadata": {
        "id": "kOThUlrZkOEt",
        "colab_type": "code",
        "colab": {}
      },
      "source": [
        "#@title Display Accuracy and Loss Graphs (double-click for code) { display-mode: \"form\" }\n",
        "def graph(history, t):\n",
        "  history_dict = history.history\n",
        "\n",
        "  train_loss = history_dict['loss']\n",
        "  train_acc = history_dict['accuracy']\n",
        "  val_loss = history_dict['val_loss']\n",
        "  val_acc = history_dict['val_accuracy']\n",
        "\n",
        "  epochs_range = range(1, len(train_loss)+1)\n",
        "\n",
        "  fig, ax = plt.subplots(1,2)\n",
        "  fig.subplots_adjust(left=0,right=1.5,wspace=.25)\n",
        "  fig.suptitle(t, fontdict=fontdict, fontsize=16, x=.75)\n",
        "\n",
        "  ax[0].plot(epochs_range, train_acc, 'r', label='Training Accuracy')\n",
        "  ax[0].plot(epochs_range, val_acc, 'b', label='Validation Accuracy')\n",
        "  ax[0].set_title('Accuracy', fontdict=fontdict)\n",
        "  ax[0].set_xlabel('Epochs')\n",
        "  ax[0].set_ylabel('Accuracy')\n",
        "  ax[0].legend()\n",
        "\n",
        "  ax[1].plot(epochs_range, train_loss, 'r', label='Training Loss')\n",
        "  ax[1].plot(epochs_range, val_loss, 'b', label='Validation Loss')\n",
        "  ax[1].set_title('Loss', fontdict=fontdict)\n",
        "  ax[1].set_xlabel('Epochs')\n",
        "  ax[1].set_ylabel('Loss')\n",
        "  ax[1].legend()\n",
        "\n",
        "  return fig"
      ],
      "execution_count": 0,
      "outputs": []
    },
    {
      "cell_type": "code",
      "metadata": {
        "id": "OQxWVaXz4olI",
        "colab_type": "code",
        "colab": {
          "base_uri": "https://localhost:8080/",
          "height": 890
        },
        "outputId": "95de754e-df82-4f5f-b616-678dcf6d213e"
      },
      "source": [
        "plt.rcParams.update(**rc_params)\n",
        "for history,t in zip(histories, ts):\n",
        "  fig = graph(history,t)\n",
        "\n",
        "plt.show()"
      ],
      "execution_count": 24,
      "outputs": [
        {
          "output_type": "display_data",
          "data": {
            "image/png": "[encoded data removed]",
            "text/plain": [
              "<Figure size 432x288 with 2 Axes>"
            ]
          },
          "metadata": {
            "tags": []
          }
        },
        {
          "output_type": "display_data",
          "data": {
            "image/png": "[encoded data removed]",
            "text/plain": [
              "<Figure size 432x288 with 2 Axes>"
            ]
          },
          "metadata": {
            "tags": []
          }
        },
        {
          "output_type": "display_data",
          "data": {
            "image/png": "[encoded data removed]",
            "text/plain": [
              "<Figure size 432x288 with 2 Axes>"
            ]
          },
          "metadata": {
            "tags": []
          }
        }
      ]
    },
    {
      "cell_type": "code",
      "metadata": {
        "id": "sqCiwc3M4uQI",
        "colab_type": "code",
        "colab": {}
      },
      "source": [
        ""
      ],
      "execution_count": 0,
      "outputs": []
    }
  ]
}